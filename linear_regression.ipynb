{
  "nbformat": 4,
  "nbformat_minor": 0,
  "metadata": {
    "colab": {
      "name": "linear_regression.ipynb",
      "version": "0.3.2",
      "provenance": [],
      "include_colab_link": true
    },
    "kernelspec": {
      "name": "python3",
      "display_name": "Python 3"
    }
  },
  "cells": [
    {
      "cell_type": "markdown",
      "metadata": {
        "id": "view-in-github",
        "colab_type": "text"
      },
      "source": [
        "<a href=\"https://colab.research.google.com/github/svdhcn/TensorFlow/blob/master/linear_regression.ipynb\" target=\"_parent\"><img src=\"https://colab.research.google.com/assets/colab-badge.svg\" alt=\"Open In Colab\"/></a>"
      ]
    },
    {
      "cell_type": "code",
      "metadata": {
        "id": "JiG_dGTHp9OS",
        "colab_type": "code",
        "colab": {}
      },
      "source": [
        "import numpy as np\n",
        "import tensorflow as tf"
      ],
      "execution_count": 0,
      "outputs": []
    },
    {
      "cell_type": "code",
      "metadata": {
        "id": "Tsv3MJi_qGZ-",
        "colab_type": "code",
        "colab": {}
      },
      "source": [
        "x_data = np.random.randn(2000, 3)\n",
        "w_real = [0.3, 0.5, 0.1]\n",
        "b_real = -0.2\n",
        "noise = np.random.randn(1, 2000)*0.1\n",
        "\n",
        "y_data = np.matmul(w_real, x_data.T) + b_real + noise"
      ],
      "execution_count": 0,
      "outputs": []
    },
    {
      "cell_type": "code",
      "metadata": {
        "id": "RUdmlxsFyVaS",
        "colab_type": "code",
        "colab": {
          "base_uri": "https://localhost:8080/",
          "height": 34
        },
        "outputId": "3b1142f1-b2c9-4270-a85d-ddf16697a2fb"
      },
      "source": [
        "print (x_data.shape, y_data.shape)"
      ],
      "execution_count": 28,
      "outputs": [
        {
          "output_type": "stream",
          "text": [
            "(2000, 3) (1, 2000)\n"
          ],
          "name": "stdout"
        }
      ]
    },
    {
      "cell_type": "code",
      "metadata": {
        "id": "yI5EO0__qz9z",
        "colab_type": "code",
        "colab": {
          "base_uri": "https://localhost:8080/",
          "height": 697
        },
        "outputId": "103e9599-1ec6-4a7f-bc15-ba5952ad4443"
      },
      "source": [
        "NUM_STEPS = 200\n",
        "\n",
        "g = tf.Graph()\n",
        "wb_ = []\n",
        "with g.as_default():\n",
        "  x = tf.placeholder(tf.float32, shape = [None , 3])\n",
        "  y_true = tf.placeholder(tf.float32, shape = None)\n",
        "  \n",
        "  with tf.name_scope(\"inference\") as scope:\n",
        "    w = tf.Variable([[0, 0, 0]], dtype = tf.float32, name = \"weight\")\n",
        "    b = tf.Variable(0, dtype = tf.float32, name = \"bias\")\n",
        "    y_pred = tf.matmul(w, tf.transpose(x)) + b\n",
        "    \n",
        "  with tf.name_scope(\"loss\") as scope:\n",
        "    loss = tf.reduce_mean(tf.square(y_true - y_pred))\n",
        "    \n",
        "  with tf.name_scope(\"train\") as scope:\n",
        "    learning_rate = 0.05\n",
        "    optimizer = tf.train.GradientDescentOptimizer(learning_rate)\n",
        "    train = optimizer.minimize(loss)\n",
        "  init = tf.global_variables_initializer()\n",
        "  \n",
        "  with tf.Session() as sess:\n",
        "    sess.run(init)\n",
        "    for step in range(NUM_STEPS):\n",
        "      sess.run(train, feed_dict = {x:x_data, y_true:y_data})\n",
        "      if step % 5 == 0:\n",
        "        print(step, sess.run([w,b]))\n",
        "        wb_.append(sess.run([w,b]))"
      ],
      "execution_count": 34,
      "outputs": [
        {
          "output_type": "stream",
          "text": [
            "0 [array([[0.03075591, 0.04847215, 0.0114576 ]], dtype=float32), -0.021780366]\n",
            "5 [array([[0.14323595, 0.22831543, 0.052421  ]], dtype=float32), -0.10011566]\n",
            "10 [array([[0.208792  , 0.33578277, 0.07528127]], dtype=float32), -0.14433764]\n",
            "15 [array([[0.24704404, 0.39999878, 0.08800336]], dtype=float32), -0.16926204]\n",
            "20 [array([[0.2693905 , 0.43836933, 0.09506104]], dtype=float32), -0.18328498]\n",
            "25 [array([[0.2824607 , 0.46129617, 0.09896222]], dtype=float32), -0.19115898]\n",
            "30 [array([[0.29011458, 0.47499505, 0.10110965]], dtype=float32), -0.1955705]\n",
            "35 [array([[0.29460213, 0.48318014, 0.10228601]], dtype=float32), -0.19803596]\n",
            "40 [array([[0.2972364 , 0.48807073, 0.10292678]], dtype=float32), -0.19940998]\n",
            "45 [array([[0.29878476, 0.49099293, 0.10327348]], dtype=float32), -0.20017326]\n",
            "50 [array([[0.29969594, 0.492739  , 0.10345955]], dtype=float32), -0.20059577]\n",
            "55 [array([[0.30023277, 0.49378228, 0.10355844]], dtype=float32), -0.20082864]\n",
            "60 [array([[0.30054948, 0.49440575, 0.10361036]], dtype=float32), -0.20095639]\n",
            "65 [array([[0.30073652, 0.49477828, 0.10363719]], dtype=float32), -0.20102608]\n",
            "70 [array([[0.3008471 , 0.4950009 , 0.10365077]], dtype=float32), -0.20106383]\n",
            "75 [array([[0.30091262, 0.49513394, 0.10365745]], dtype=float32), -0.20108412]\n",
            "80 [array([[0.30095145, 0.49521345, 0.10366061]], dtype=float32), -0.20109491]\n",
            "85 [array([[0.3009745, 0.495261 , 0.103662 ]], dtype=float32), -0.20110059]\n",
            "90 [array([[0.3009882 , 0.49528942, 0.10366254]], dtype=float32), -0.20110354]\n",
            "95 [array([[0.30099633, 0.4953064 , 0.1036627 ]], dtype=float32), -0.20110503]\n",
            "100 [array([[0.30100116, 0.49531657, 0.10366269]], dtype=float32), -0.20110576]\n",
            "105 [array([[0.30100402, 0.49532261, 0.10366263]], dtype=float32), -0.2011061]\n",
            "110 [array([[0.30100572, 0.49532625, 0.10366256]], dtype=float32), -0.20110625]\n",
            "115 [array([[0.30100676, 0.49532843, 0.1036625 ]], dtype=float32), -0.20110631]\n",
            "120 [array([[0.3010074 , 0.4953297 , 0.10366246]], dtype=float32), -0.20110631]\n",
            "125 [array([[0.30100775, 0.49533048, 0.10366242]], dtype=float32), -0.20110631]\n",
            "130 [array([[0.30100796, 0.49533093, 0.10366239]], dtype=float32), -0.20110631]\n",
            "135 [array([[0.3010081 , 0.4953312 , 0.10366238]], dtype=float32), -0.20110631]\n",
            "140 [array([[0.30100816, 0.49533135, 0.10366238]], dtype=float32), -0.20110631]\n",
            "145 [array([[0.30100816, 0.49533147, 0.10366238]], dtype=float32), -0.20110631]\n",
            "150 [array([[0.30100816, 0.49533147, 0.10366238]], dtype=float32), -0.20110631]\n",
            "155 [array([[0.30100816, 0.49533147, 0.10366238]], dtype=float32), -0.20110631]\n",
            "160 [array([[0.30100816, 0.49533147, 0.10366238]], dtype=float32), -0.20110631]\n",
            "165 [array([[0.30100816, 0.49533147, 0.10366238]], dtype=float32), -0.20110631]\n",
            "170 [array([[0.30100816, 0.49533147, 0.10366238]], dtype=float32), -0.20110631]\n",
            "175 [array([[0.30100816, 0.49533147, 0.10366238]], dtype=float32), -0.20110631]\n",
            "180 [array([[0.30100816, 0.49533147, 0.10366238]], dtype=float32), -0.20110631]\n",
            "185 [array([[0.30100816, 0.49533147, 0.10366238]], dtype=float32), -0.20110631]\n",
            "190 [array([[0.30100816, 0.49533147, 0.10366238]], dtype=float32), -0.20110631]\n",
            "195 [array([[0.30100816, 0.49533147, 0.10366238]], dtype=float32), -0.20110631]\n"
          ],
          "name": "stdout"
        }
      ]
    },
    {
      "cell_type": "code",
      "metadata": {
        "id": "B9OQhxvzzHQp",
        "colab_type": "code",
        "colab": {}
      },
      "source": [
        ""
      ],
      "execution_count": 0,
      "outputs": []
    }
  ]
}