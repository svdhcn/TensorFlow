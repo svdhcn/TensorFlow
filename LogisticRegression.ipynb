{
  "nbformat": 4,
  "nbformat_minor": 0,
  "metadata": {
    "colab": {
      "name": "LogisticRegression.ipynb",
      "version": "0.3.2",
      "provenance": [],
      "include_colab_link": true
    },
    "kernelspec": {
      "name": "python3",
      "display_name": "Python 3"
    }
  },
  "cells": [
    {
      "cell_type": "markdown",
      "metadata": {
        "id": "view-in-github",
        "colab_type": "text"
      },
      "source": [
        "<a href=\"https://colab.research.google.com/github/svdhcn/TensorFlow/blob/master/LogisticRegression.ipynb\" target=\"_parent\"><img src=\"https://colab.research.google.com/assets/colab-badge.svg\" alt=\"Open In Colab\"/></a>"
      ]
    },
    {
      "cell_type": "code",
      "metadata": {
        "id": "hcHzyZKjzb7B",
        "colab_type": "code",
        "colab": {}
      },
      "source": [
        "import numpy as np\n",
        "import tensorflow as tf"
      ],
      "execution_count": 0,
      "outputs": []
    },
    {
      "cell_type": "code",
      "metadata": {
        "id": "_32DFOU61l6j",
        "colab_type": "code",
        "colab": {}
      },
      "source": [
        "def sigmoid(X):\n",
        "  return 1/(1 + np.exp(-X))"
      ],
      "execution_count": 0,
      "outputs": []
    },
    {
      "cell_type": "code",
      "metadata": {
        "id": "qq1Lx8kk10T2",
        "colab_type": "code",
        "colab": {}
      },
      "source": [
        "N = 20000\n",
        "x_data = np.random.randn(N, 3)\n",
        "w_real = [0.8, 0.4, 0.2]\n",
        "b_real = -0.2\n",
        "wxb = np.matmul(w_real, x_data.T) + b_real\n",
        "\n",
        "y_data_pre_noise = sigmoid(wxb)\n",
        "y_data = np.random.binomial(1, y_data_pre_noise)"
      ],
      "execution_count": 0,
      "outputs": []
    },
    {
      "cell_type": "code",
      "metadata": {
        "id": "E95tDiSaEVDa",
        "colab_type": "code",
        "colab": {
          "base_uri": "https://localhost:8080/",
          "height": 1717
        },
        "outputId": "42e18ff8-7d4f-4623-d750-6edc95ce489a"
      },
      "source": [
        "NUM_STEPS = 500\n",
        "g = tf.Graph()\n",
        "wb_ = []\n",
        "with g.as_default():\n",
        "  x = tf.placeholder(tf.float32, shape = [None , 3])\n",
        "  y_true = tf.placeholder(tf.float32, shape = None)\n",
        "  \n",
        "  with tf.name_scope(\"inference\") as scope:\n",
        "    w = tf.Variable([[0, 0, 0]], dtype = tf.float32, name = \"weight\")\n",
        "    b = tf.Variable(0, dtype = tf.float32, name = \"bias\")\n",
        "    y_pred = tf.matmul(w, tf.transpose(x)) + b\n",
        "    \n",
        "  with tf.name_scope(\"loss\") as scope:\n",
        "    loss = tf.nn.sigmoid_cross_entropy_with_logits(labels=y_true, logits=y_pred)\n",
        "    loss = tf.reduce_mean(loss)\n",
        "    \n",
        "  with tf.name_scope(\"train\") as scope:\n",
        "    learning_rate = 0.05\n",
        "    optimizer = tf.train.GradientDescentOptimizer(learning_rate)\n",
        "    train = optimizer.minimize(loss)\n",
        "    \n",
        "  init = tf.global_variables_initializer()\n",
        "  with tf.Session() as sess:\n",
        "    sess.run(init)\n",
        "    for step in range(NUM_STEPS):\n",
        "      sess.run(train, feed_dict = {x:x_data, y_true:y_data})\n",
        "      if step % 5 == 0:\n",
        "        print(step, sess.run([w,b]))\n",
        "        wb_.append(sess.run([w,b]))"
      ],
      "execution_count": 5,
      "outputs": [
        {
          "output_type": "stream",
          "text": [
            "0 [array([[0.00836535, 0.00395699, 0.00201063]], dtype=float32), -0.002179999]\n",
            "5 [array([[0.04864264, 0.02301052, 0.01168379]], dtype=float32), -0.012652549]\n",
            "10 [array([[0.08645865, 0.04090217, 0.02075387]], dtype=float32), -0.02244777]\n",
            "15 [array([[0.12197494, 0.05770804, 0.02926107]], dtype=float32), -0.031612176]\n",
            "20 [array([[0.15534675, 0.0735013 , 0.03724395]], dtype=float32), -0.04019019]\n",
            "25 [array([[0.18672153, 0.08835144, 0.04473903]], dtype=float32), -0.04822379]\n",
            "30 [array([[0.21623807, 0.10232393, 0.05178065]], dtype=float32), -0.055752337]\n",
            "35 [array([[0.24402615, 0.11547995, 0.05840086]], dtype=float32), -0.062812515]\n",
            "40 [array([[0.27020648, 0.12787645, 0.06462947]], dtype=float32), -0.069438346]\n",
            "45 [array([[0.2948909 , 0.13956621, 0.07049407]], dtype=float32), -0.07566127]\n",
            "50 [array([[0.31818286, 0.15059802, 0.07602014]], dtype=float32), -0.0815103]\n",
            "55 [array([[0.3401777 , 0.1610169 , 0.08123118]], dtype=float32), -0.08701213]\n",
            "60 [array([[0.3609634 , 0.17086436, 0.08614887]], dtype=float32), -0.09219134]\n",
            "65 [array([[0.38062096, 0.18017864, 0.0907931 ]], dtype=float32), -0.09707049]\n",
            "70 [array([[0.399225  , 0.188995  , 0.09518226]], dtype=float32), -0.101670355]\n",
            "75 [array([[0.41684416, 0.19734585, 0.09933325]], dtype=float32), -0.10601002]\n",
            "80 [array([[0.43354186, 0.20526113, 0.10326163]], dtype=float32), -0.11010704]\n",
            "85 [array([[0.4493765 , 0.2127684 , 0.10698176]], dtype=float32), -0.11397757]\n",
            "90 [array([[0.464402  , 0.21989316, 0.11050688]], dtype=float32), -0.117636494]\n",
            "95 [array([[0.47866824, 0.22665893, 0.11384922]], dtype=float32), -0.121097535]\n",
            "100 [array([[0.49222124, 0.23308747, 0.11702008]], dtype=float32), -0.124373354]\n",
            "105 [array([[0.50510365, 0.23919894, 0.12002992]], dtype=float32), -0.12747565]\n",
            "110 [array([[0.5173551 , 0.245012  , 0.12288842]], dtype=float32), -0.13041525]\n",
            "115 [array([[0.5290121 , 0.25054395, 0.12560457]], dtype=float32), -0.13320214]\n",
            "120 [array([[0.5401089 , 0.25581098, 0.12818672]], dtype=float32), -0.1358456]\n",
            "125 [array([[0.5506772 , 0.26082796, 0.13064258]], dtype=float32), -0.13835423]\n",
            "130 [array([[0.5607463 , 0.26560885, 0.13297936]], dtype=float32), -0.14073601]\n",
            "135 [array([[0.5703439 , 0.27016664, 0.13520378]], dtype=float32), -0.1429984]\n",
            "140 [array([[0.57949555, 0.27451345, 0.1373221 ]], dtype=float32), -0.14514828]\n",
            "145 [array([[0.58822525, 0.27866057, 0.13934016]], dtype=float32), -0.14719208]\n",
            "150 [array([[0.5965555 , 0.28261864, 0.1412634 ]], dtype=float32), -0.1491358]\n",
            "155 [array([[0.6045072 , 0.2863975 , 0.14309692]], dtype=float32), -0.15098503]\n",
            "160 [array([[0.6121    , 0.29000646, 0.14484552]], dtype=float32), -0.15274504]\n",
            "165 [array([[0.6193523 , 0.29345423, 0.14651364]], dtype=float32), -0.15442069]\n",
            "170 [array([[0.62628144, 0.29674903, 0.14810549]], dtype=float32), -0.15601654]\n",
            "175 [array([[0.6329037 , 0.29989845, 0.14962499]], dtype=float32), -0.15753691]\n",
            "180 [array([[0.6392343 , 0.30290976, 0.15107585]], dtype=float32), -0.15898578]\n",
            "185 [array([[0.64528763, 0.30578968, 0.15246153]], dtype=float32), -0.1603669]\n",
            "190 [array([[0.6510773 , 0.30854467, 0.1537853 ]], dtype=float32), -0.16168384]\n",
            "195 [array([[0.656616  , 0.3111808 , 0.15505023]], dtype=float32), -0.16293992]\n",
            "200 [array([[0.66191584, 0.3137037 , 0.15625925]], dtype=float32), -0.16413826]\n",
            "205 [array([[0.66698813, 0.31611875, 0.15741508]], dtype=float32), -0.1652818]\n",
            "210 [array([[0.6718437 , 0.31843102, 0.15852027]], dtype=float32), -0.16637331]\n",
            "215 [array([[0.67649275, 0.32064536, 0.1595773 ]], dtype=float32), -0.1674154]\n",
            "220 [array([[0.6809448 , 0.32276624, 0.16058843]], dtype=float32), -0.16841052]\n",
            "225 [array([[0.685209  , 0.32479802, 0.16155589]], dtype=float32), -0.16936101]\n",
            "230 [array([[0.68929386, 0.3267447 , 0.16248167]], dtype=float32), -0.17026904]\n",
            "235 [array([[0.6932076 , 0.3286102 , 0.16336775]], dtype=float32), -0.17113668]\n",
            "240 [array([[0.69695807, 0.3303982 , 0.16421597]], dtype=float32), -0.17196587]\n",
            "245 [array([[0.70055246, 0.33211216, 0.16502808]], dtype=float32), -0.17275849]\n",
            "250 [array([[0.70399785, 0.3337554 , 0.16580576]], dtype=float32), -0.17351626]\n",
            "255 [array([[0.70730084, 0.335331  , 0.16655056]], dtype=float32), -0.17424084]\n",
            "260 [array([[0.71046764, 0.3368419 , 0.16726397]], dtype=float32), -0.1749338]\n",
            "265 [array([[0.71350443, 0.33829102, 0.1679474 ]], dtype=float32), -0.17559664]\n",
            "270 [array([[0.71641666, 0.33968097, 0.16860221]], dtype=float32), -0.17623074]\n",
            "275 [array([[0.7192099 , 0.34101442, 0.16922969]], dtype=float32), -0.17683744]\n",
            "280 [array([[0.7218893 , 0.34229374, 0.16983101]], dtype=float32), -0.17741804]\n",
            "285 [array([[0.7244597 , 0.3435212 , 0.17040735]], dtype=float32), -0.17797369]\n",
            "290 [array([[0.72692585, 0.3446991 , 0.17095985]], dtype=float32), -0.17850555]\n",
            "295 [array([[0.72929215, 0.34582955, 0.1714895 ]], dtype=float32), -0.17901471]\n",
            "300 [array([[0.73156285, 0.34691447, 0.17199732]], dtype=float32), -0.17950222]\n",
            "305 [array([[0.7337421 , 0.34795588, 0.17248425]], dtype=float32), -0.17996901]\n",
            "310 [array([[0.73583364, 0.34895557, 0.1729512 ]], dtype=float32), -0.18041605]\n",
            "315 [array([[0.7378412 , 0.3499153 , 0.17339903]], dtype=float32), -0.1808442]\n",
            "320 [array([[0.73976827, 0.35083672, 0.17382857]], dtype=float32), -0.1812543]\n",
            "325 [array([[0.7416183 , 0.35172144, 0.17424057]], dtype=float32), -0.18164718]\n",
            "330 [array([[0.7433944 , 0.35257098, 0.17463581]], dtype=float32), -0.18202357]\n",
            "335 [array([[0.74509966, 0.35338676, 0.17501499]], dtype=float32), -0.18238421]\n",
            "340 [array([[0.74673706, 0.3541702 , 0.17537878]], dtype=float32), -0.18272981]\n",
            "345 [array([[0.74830943, 0.3549226 , 0.17572786]], dtype=float32), -0.183061]\n",
            "350 [array([[0.74981934, 0.35564524, 0.17606282]], dtype=float32), -0.18337841]\n",
            "355 [array([[0.7512694 , 0.35633942, 0.17638429]], dtype=float32), -0.18368265]\n",
            "360 [array([[0.7526621 , 0.35700616, 0.17669277]], dtype=float32), -0.18397428]\n",
            "365 [array([[0.7539997 , 0.3576467 , 0.17698886]], dtype=float32), -0.18425384]\n",
            "370 [array([[0.75528455, 0.358262  , 0.17727305]], dtype=float32), -0.18452187]\n",
            "375 [array([[0.7565187 , 0.35885316, 0.17754585]], dtype=float32), -0.18477884]\n",
            "380 [array([[0.75770426, 0.35942113, 0.1778077 ]], dtype=float32), -0.18502524]\n",
            "385 [array([[0.7588431 , 0.35996684, 0.17805909]], dtype=float32), -0.18526153]\n",
            "390 [array([[0.75993717, 0.36049113, 0.17830044]], dtype=float32), -0.18548813]\n",
            "395 [array([[0.76098835, 0.36099494, 0.17853217]], dtype=float32), -0.18570545]\n",
            "400 [array([[0.76199824, 0.361479  , 0.17875466]], dtype=float32), -0.18591388]\n",
            "405 [array([[0.76296854, 0.36194423, 0.17896828]], dtype=float32), -0.1861138]\n",
            "410 [array([[0.76390076, 0.36239126, 0.17917341]], dtype=float32), -0.18630558]\n",
            "415 [array([[0.7647966 , 0.36282086, 0.17937039]], dtype=float32), -0.18648955]\n",
            "420 [array([[0.76565737, 0.36323377, 0.17955954]], dtype=float32), -0.18666604]\n",
            "425 [array([[0.76648444, 0.3636306 , 0.1797412 ]], dtype=float32), -0.18683538]\n",
            "430 [array([[0.7672793 , 0.36401194, 0.17991567]], dtype=float32), -0.18699785]\n",
            "435 [array([[0.76804316, 0.36437848, 0.18008323]], dtype=float32), -0.18715373]\n",
            "440 [array([[0.76877725, 0.36473078, 0.18024415]], dtype=float32), -0.1873033]\n",
            "445 [array([[0.76948273, 0.3650694 , 0.18039872]], dtype=float32), -0.18744683]\n",
            "450 [array([[0.77016073, 0.36539486, 0.18054721]], dtype=float32), -0.18758456]\n",
            "455 [array([[0.77081233, 0.36570773, 0.18068984]], dtype=float32), -0.18771677]\n",
            "460 [array([[0.7714386 , 0.36600843, 0.18082683]], dtype=float32), -0.18784365]\n",
            "465 [array([[0.7720406 , 0.36629754, 0.18095842]], dtype=float32), -0.18796542]\n",
            "470 [array([[0.7726192 , 0.36657545, 0.18108484]], dtype=float32), -0.18808228]\n",
            "475 [array([[0.77317536, 0.36684263, 0.18120629]], dtype=float32), -0.18819445]\n",
            "480 [array([[0.7737099 , 0.36709943, 0.18132296]], dtype=float32), -0.18830213]\n",
            "485 [array([[0.77422374, 0.36734635, 0.1814351 ]], dtype=float32), -0.1884055]\n",
            "490 [array([[0.7747176 , 0.3675837 , 0.18154278]], dtype=float32), -0.18850474]\n",
            "495 [array([[0.7751924 , 0.36781183, 0.18164627]], dtype=float32), -0.18859999]\n"
          ],
          "name": "stdout"
        }
      ]
    },
    {
      "cell_type": "code",
      "metadata": {
        "id": "cJwTk5tPE_Rl",
        "colab_type": "code",
        "colab": {}
      },
      "source": [
        ""
      ],
      "execution_count": 0,
      "outputs": []
    }
  ]
}